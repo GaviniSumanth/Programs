{
  "cells": [
    {
      "cell_type": "code",
      "execution_count": 1,
      "metadata": {
        "id": "nclblMxvaZ_d"
      },
      "outputs": [],
      "source": [
        "def P(var, evidence={}):\n",
        "    row = tuple(evidence[parent] for parent in var.parents)\n",
        "    return var.cpt[row]\n",
        "\n",
        "\n",
        "def normalize(dist):\n",
        "    total = sum(dist.values())\n",
        "    for key in dist:\n",
        "        dist[key] = dist[key] / total\n",
        "        assert 0 <= dist[key] <= 1, \"Probabilities must be between 0 and 1.\"\n",
        "    return dist\n",
        "\n",
        "\n",
        "def sample(probdist):\n",
        "    r = random.random()\n",
        "    c = 0.0\n",
        "    for outcome in probdist:\n",
        "        c += probdist[outcome]\n",
        "        if r <= c:\n",
        "            return outcome\n",
        "\n",
        "\n",
        "def globalize(mapping):\n",
        "    globals().update(mapping)"
      ]
    },
    {
      "cell_type": "code",
      "execution_count": 2,
      "metadata": {
        "id": "6alqmHMnWmX1"
      },
      "outputs": [],
      "source": [
        "from collections import defaultdict, Counter\n",
        "import itertools\n",
        "import math\n",
        "import random\n",
        "\n",
        "\n",
        "class BayesNet(object):\n",
        "    def __init__(self):\n",
        "        self.variables = []\n",
        "        self.lookup = {}\n",
        "\n",
        "    def add(self, name, parentnames, cpt):\n",
        "        parents = [self.lookup[name] for name in parentnames]\n",
        "        var = Variable(name, cpt, parents)\n",
        "        self.variables.append(var)\n",
        "        self.lookup[name] = var\n",
        "        return self\n",
        "\n",
        "\n",
        "class Variable(object):\n",
        "    def __init__(self, name, cpt, parents=()):\n",
        "        self.__name__ = name\n",
        "        self.parents = parents\n",
        "        self.cpt = CPTable(cpt, parents)\n",
        "        self.domain = set(itertools.chain(*self.cpt.values()))\n",
        "\n",
        "    def __repr__(self):\n",
        "        return self.__name__\n",
        "\n",
        "\n",
        "class Factor(dict):\n",
        "    \"An {outcome: frequency} mapping.\"\n",
        "\n",
        "\n",
        "class ProbDist(Factor):\n",
        "    def __init__(self, mapping=(), **kwargs):\n",
        "        if isinstance(mapping, float):\n",
        "            mapping = {T: mapping, F: 1 - mapping}\n",
        "        self.update(mapping, **kwargs)\n",
        "        normalize(self)\n",
        "\n",
        "\n",
        "class Evidence(dict):\n",
        "    \"A {variable: value} mapping, describing what we know for sure.\"\n",
        "\n",
        "\n",
        "class CPTable(dict):\n",
        "    def __init__(self, mapping, parents=()):\n",
        "        if len(parents) == 0 and not (\n",
        "            isinstance(mapping, dict) and set(mapping.keys()) == {()}\n",
        "        ):\n",
        "            mapping = {(): mapping}\n",
        "        for row, dist in mapping.items():\n",
        "            if len(parents) == 1 and not isinstance(row, tuple):\n",
        "                row = (row,)\n",
        "            self[row] = ProbDist(dist)\n",
        "\n",
        "\n",
        "class Bool(int):\n",
        "    __str__ = __repr__ = lambda self: \"T\" if self else \"F\"\n",
        "\n",
        "\n",
        "T = Bool(True)\n",
        "F = Bool(False)\n"
      ]
    },
    {
      "cell_type": "code",
      "execution_count": 3,
      "metadata": {
        "id": "zcPlSQ6raqV3"
      },
      "outputs": [],
      "source": [
        "Earthquake = Variable(\"Earthquake\", 0.002)\n"
      ]
    },
    {
      "cell_type": "code",
      "execution_count": 4,
      "metadata": {
        "colab": {
          "base_uri": "https://localhost:8080/"
        },
        "id": "9WC8-VS2bGgU",
        "outputId": "39536106-e81e-4e58-b87b-0483eaf4c143"
      },
      "outputs": [
        {
          "data": {
            "text/plain": [
              "{T: 0.002, F: 0.998}"
            ]
          },
          "execution_count": 4,
          "metadata": {},
          "output_type": "execute_result"
        }
      ],
      "source": [
        "P(Earthquake)"
      ]
    },
    {
      "cell_type": "code",
      "execution_count": 5,
      "metadata": {
        "colab": {
          "base_uri": "https://localhost:8080/"
        },
        "id": "Arh0UOn8bEi2",
        "outputId": "b0271d62-5fec-400c-be67-123f24dbfff0"
      },
      "outputs": [
        {
          "data": {
            "text/plain": [
              "Counter({F: 99790, T: 210})"
            ]
          },
          "execution_count": 5,
          "metadata": {},
          "output_type": "execute_result"
        }
      ],
      "source": [
        "Counter(sample(P(Earthquake)) for i in range(100000))"
      ]
    },
    {
      "cell_type": "code",
      "execution_count": 6,
      "metadata": {
        "colab": {
          "base_uri": "https://localhost:8080/"
        },
        "id": "wr4d8DSKbQOv",
        "outputId": "f0e9a259-ad60-4a74-bb59-2206cecbdb6c"
      },
      "outputs": [
        {
          "data": {
            "text/plain": [
              "[Burglary, Earthquake, Alarm, JohnCalls, MaryCalls]"
            ]
          },
          "execution_count": 6,
          "metadata": {},
          "output_type": "execute_result"
        }
      ],
      "source": [
        "alarm_net = (\n",
        "    BayesNet()\n",
        "    .add(\"Burglary\", [], 0.001)\n",
        "    .add(\"Earthquake\", [], 0.002)\n",
        "    .add(\n",
        "        \"Alarm\",\n",
        "        [\"Burglary\", \"Earthquake\"],\n",
        "        {(T, T): 0.95, (T, F): 0.94, (F, T): 0.29, (F, F): 0.001},\n",
        "    )\n",
        "    .add(\"JohnCalls\", [\"Alarm\"], {T: 0.90, F: 0.05})\n",
        "    .add(\"MaryCalls\", [\"Alarm\"], {T: 0.70, F: 0.01})\n",
        ")\n",
        "globalize(alarm_net.lookup)\n",
        "alarm_net.variables"
      ]
    },
    {
      "cell_type": "code",
      "execution_count": 7,
      "metadata": {
        "colab": {
          "base_uri": "https://localhost:8080/"
        },
        "id": "WTokGDBBcYXT",
        "outputId": "817e203e-5e9f-415c-94df-bfc409597ec3"
      },
      "outputs": [
        {
          "data": {
            "text/plain": [
              "{T: 0.001, F: 0.999}"
            ]
          },
          "execution_count": 7,
          "metadata": {},
          "output_type": "execute_result"
        }
      ],
      "source": [
        "P(Burglary)"
      ]
    },
    {
      "cell_type": "code",
      "execution_count": 8,
      "metadata": {
        "colab": {
          "base_uri": "https://localhost:8080/"
        },
        "id": "VirGhkE8cfWj",
        "outputId": "9b4bf543-adda-4810-939a-33a99ec340dc"
      },
      "outputs": [
        {
          "data": {
            "text/plain": [
              "{T: 0.94, F: 0.06000000000000005}"
            ]
          },
          "execution_count": 8,
          "metadata": {},
          "output_type": "execute_result"
        }
      ],
      "source": [
        "P(Alarm, {Burglary: T, Earthquake: F})"
      ]
    },
    {
      "cell_type": "code",
      "execution_count": 9,
      "metadata": {
        "colab": {
          "base_uri": "https://localhost:8080/"
        },
        "id": "kLufPbUccpRY",
        "outputId": "9064e0d2-eaa4-49bc-e096-432a51aa7c74"
      },
      "outputs": [
        {
          "data": {
            "text/plain": [
              "{(T, T): {T: 0.95, F: 0.050000000000000044},\n",
              " (T, F): {T: 0.94, F: 0.06000000000000005},\n",
              " (F, T): {T: 0.29, F: 0.71},\n",
              " (F, F): {T: 0.001, F: 0.999}}"
            ]
          },
          "execution_count": 9,
          "metadata": {},
          "output_type": "execute_result"
        }
      ],
      "source": [
        "Alarm.cpt"
      ]
    },
    {
      "cell_type": "code",
      "execution_count": 10,
      "metadata": {
        "id": "DeL7XC8kc-xP"
      },
      "outputs": [],
      "source": [
        "def joint_distribution(net):\n",
        "    return ProbDist(\n",
        "        {\n",
        "            row: prod(P_xi_given_parents(var, row, net) for var in net.variables)\n",
        "            for row in all_rows(net)\n",
        "        }\n",
        "    )\n",
        "\n",
        "\n",
        "def all_rows(net):\n",
        "    return itertools.product(*[var.domain for var in net.variables])\n",
        "\n",
        "\n",
        "def P_xi_given_parents(var, row, net):\n",
        "    dist = P(var, Evidence(zip(net.variables, row)))\n",
        "    xi = row[net.variables.index(var)]\n",
        "    return dist[xi]\n",
        "\n",
        "\n",
        "def prod(numbers):\n",
        "    result = 1\n",
        "    for x in numbers:\n",
        "        result *= x\n",
        "    return result\n"
      ]
    },
    {
      "cell_type": "code",
      "execution_count": 11,
      "metadata": {
        "colab": {
          "base_uri": "https://localhost:8080/"
        },
        "id": "vCtTGeiSdJcy",
        "outputId": "0d83c4a5-9d08-4ae2-e111-b361e56cec26"
      },
      "outputs": [
        {
          "data": {
            "text/plain": [
              "{(F, F, F, F, F),\n",
              " (F, F, F, F, T),\n",
              " (F, F, F, T, F),\n",
              " (F, F, F, T, T),\n",
              " (F, F, T, F, F),\n",
              " (F, F, T, F, T),\n",
              " (F, F, T, T, F),\n",
              " (F, F, T, T, T),\n",
              " (F, T, F, F, F),\n",
              " (F, T, F, F, T),\n",
              " (F, T, F, T, F),\n",
              " (F, T, F, T, T),\n",
              " (F, T, T, F, F),\n",
              " (F, T, T, F, T),\n",
              " (F, T, T, T, F),\n",
              " (F, T, T, T, T),\n",
              " (T, F, F, F, F),\n",
              " (T, F, F, F, T),\n",
              " (T, F, F, T, F),\n",
              " (T, F, F, T, T),\n",
              " (T, F, T, F, F),\n",
              " (T, F, T, F, T),\n",
              " (T, F, T, T, F),\n",
              " (T, F, T, T, T),\n",
              " (T, T, F, F, F),\n",
              " (T, T, F, F, T),\n",
              " (T, T, F, T, F),\n",
              " (T, T, F, T, T),\n",
              " (T, T, T, F, F),\n",
              " (T, T, T, F, T),\n",
              " (T, T, T, T, F),\n",
              " (T, T, T, T, T)}"
            ]
          },
          "execution_count": 11,
          "metadata": {},
          "output_type": "execute_result"
        }
      ],
      "source": [
        "set(all_rows(alarm_net))"
      ]
    },
    {
      "cell_type": "code",
      "execution_count": 12,
      "metadata": {
        "colab": {
          "base_uri": "https://localhost:8080/"
        },
        "id": "Y6-3QnDxdLeE",
        "outputId": "e2cac5b1-3c88-4499-ce8e-158d6211fee8"
      },
      "outputs": [
        {
          "data": {
            "text/plain": [
              "{T: 0.001, F: 0.999}"
            ]
          },
          "execution_count": 12,
          "metadata": {},
          "output_type": "execute_result"
        }
      ],
      "source": [
        "row = (F, F, F, F, F)\n",
        "P(Alarm, {Burglary: F, Earthquake: F})"
      ]
    },
    {
      "cell_type": "code",
      "execution_count": 13,
      "metadata": {
        "colab": {
          "base_uri": "https://localhost:8080/"
        },
        "id": "jyjWAve2dTvb",
        "outputId": "70666a8b-b109-437c-a103-be11fe957774"
      },
      "outputs": [
        {
          "data": {
            "text/plain": [
              "0.999"
            ]
          },
          "execution_count": 13,
          "metadata": {},
          "output_type": "execute_result"
        }
      ],
      "source": [
        "P_xi_given_parents(Alarm, row, alarm_net)"
      ]
    },
    {
      "cell_type": "code",
      "execution_count": 14,
      "metadata": {
        "colab": {
          "base_uri": "https://localhost:8080/"
        },
        "id": "qrwbd6k_dlgg",
        "outputId": "a3de593e-4b54-4788-b2cd-3b176862700c"
      },
      "outputs": [
        {
          "data": {
            "text/plain": [
              "{(F, F, F, F, F): 0.9367427006190001,\n",
              " (F, F, F, F, T): 0.009462047481000001,\n",
              " (F, F, F, T, F): 0.04930224740100002,\n",
              " (F, F, F, T, T): 0.0004980024990000002,\n",
              " (F, F, T, F, F): 2.9910060000000004e-05,\n",
              " (F, F, T, F, T): 6.979013999999999e-05,\n",
              " (F, F, T, T, F): 0.00026919054000000005,\n",
              " (F, F, T, T, T): 0.00062811126,\n",
              " (F, T, F, F, F): 0.0013341744900000002,\n",
              " (F, T, F, F, T): 1.3476510000000005e-05,\n",
              " (F, T, F, T, F): 7.021971000000001e-05,\n",
              " (F, T, F, T, T): 7.092900000000001e-07,\n",
              " (F, T, T, F, F): 1.7382600000000002e-05,\n",
              " (F, T, T, F, T): 4.0559399999999997e-05,\n",
              " (F, T, T, T, F): 0.00015644340000000006,\n",
              " (F, T, T, T, T): 0.00036503460000000007,\n",
              " (T, F, F, F, F): 5.631714000000006e-05,\n",
              " (T, F, F, F, T): 5.688600000000006e-07,\n",
              " (T, F, F, T, F): 2.9640600000000033e-06,\n",
              " (T, F, F, T, T): 2.9940000000000035e-08,\n",
              " (T, F, T, F, F): 2.8143600000000003e-05,\n",
              " (T, F, T, F, T): 6.56684e-05,\n",
              " (T, F, T, T, F): 0.0002532924000000001,\n",
              " (T, F, T, T, T): 0.0005910156000000001,\n",
              " (T, T, F, F, F): 9.40500000000001e-08,\n",
              " (T, T, F, F, T): 9.50000000000001e-10,\n",
              " (T, T, F, T, F): 4.9500000000000054e-09,\n",
              " (T, T, F, T, T): 5.0000000000000066e-11,\n",
              " (T, T, T, F, F): 5.7e-08,\n",
              " (T, T, T, F, T): 1.3299999999999996e-07,\n",
              " (T, T, T, T, F): 5.130000000000002e-07,\n",
              " (T, T, T, T, T): 1.1970000000000001e-06}"
            ]
          },
          "execution_count": 14,
          "metadata": {},
          "output_type": "execute_result"
        }
      ],
      "source": [
        "joint_distribution(alarm_net)"
      ]
    },
    {
      "cell_type": "code",
      "execution_count": 15,
      "metadata": {
        "colab": {
          "base_uri": "https://localhost:8080/"
        },
        "id": "8WUX7asJeDIC",
        "outputId": "c7b07a0a-86f7-451e-d436-bfc67851974b"
      },
      "outputs": [
        {
          "data": {
            "text/plain": [
              "[Hungry, FoodAvailable, Eat, Sated, Unsated]"
            ]
          },
          "execution_count": 15,
          "metadata": {},
          "output_type": "execute_result"
        }
      ],
      "source": [
        "alarm_net2 = (\n",
        "    BayesNet()\n",
        "    .add(\"Hungry\", [], 0.05)\n",
        "    .add(\"FoodAvailable\", [], 0.1)\n",
        "    .add(\n",
        "        \"Eat\",\n",
        "        [\"Hungry\", \"FoodAvailable\"],\n",
        "        {(T, T): 0.95, (T, F): 0.0, (F, T): 0.05, (F, F): 0.0},\n",
        "    )\n",
        "    .add(\"Sated\", [\"Eat\"], {T: 0.9, F: 0.1})\n",
        "    .add(\"Unsated\", [\"Eat\"], {T: 0.7, F: 0.1})\n",
        ")\n",
        "globalize(alarm_net2.lookup)\n",
        "alarm_net2.variables\n"
      ]
    },
    {
      "cell_type": "code",
      "execution_count": 16,
      "metadata": {
        "colab": {
          "base_uri": "https://localhost:8080/"
        },
        "id": "gTwnrgY_fLMR",
        "outputId": "e507075b-eeab-42e1-d242-e8b0d1ccf3b6"
      },
      "outputs": [
        {
          "data": {
            "text/plain": [
              "{(T, T): {T: 0.95, F: 0.050000000000000044},\n",
              " (T, F): {T: 0.0, F: 1.0},\n",
              " (F, T): {T: 0.05, F: 0.95},\n",
              " (F, F): {T: 0.0, F: 1.0}}"
            ]
          },
          "execution_count": 16,
          "metadata": {},
          "output_type": "execute_result"
        }
      ],
      "source": [
        "Eat.cpt"
      ]
    },
    {
      "cell_type": "code",
      "execution_count": 17,
      "metadata": {
        "colab": {
          "base_uri": "https://localhost:8080/"
        },
        "id": "P-LW9Mg9gB5i",
        "outputId": "96fd0e89-9db6-4713-b792-d4035c17aff7"
      },
      "outputs": [
        {
          "data": {
            "text/plain": [
              "{T: 0.05, F: 0.95}"
            ]
          },
          "execution_count": 17,
          "metadata": {},
          "output_type": "execute_result"
        }
      ],
      "source": [
        "P(Hungry)"
      ]
    },
    {
      "cell_type": "code",
      "execution_count": 18,
      "metadata": {
        "colab": {
          "base_uri": "https://localhost:8080/"
        },
        "id": "aic25jZ7gDyV",
        "outputId": "dedb5999-82d2-46c0-84c2-56c9456a3822"
      },
      "outputs": [
        {
          "data": {
            "text/plain": [
              "{T: 0.0, F: 1.0}"
            ]
          },
          "execution_count": 18,
          "metadata": {},
          "output_type": "execute_result"
        }
      ],
      "source": [
        "P(Eat, {Hungry: T, FoodAvailable: F})"
      ]
    },
    {
      "cell_type": "code",
      "execution_count": 19,
      "metadata": {
        "colab": {
          "base_uri": "https://localhost:8080/"
        },
        "id": "8xdovI8kgQ4j",
        "outputId": "e9926cf8-b761-4974-eb08-4357140bff3f"
      },
      "outputs": [
        {
          "data": {
            "text/plain": [
              "0.95"
            ]
          },
          "execution_count": 19,
          "metadata": {},
          "output_type": "execute_result"
        }
      ],
      "source": [
        "row = (F, T, F, F, F)\n",
        "P_xi_given_parents(Eat, row, alarm_net2)"
      ]
    },
    {
      "cell_type": "code",
      "execution_count": 20,
      "metadata": {
        "colab": {
          "base_uri": "https://localhost:8080/"
        },
        "id": "Rim3vIBcfPEY",
        "outputId": "fa5c4dbb-7a24-47ae-f730-9b4371793a99"
      },
      "outputs": [
        {
          "data": {
            "text/plain": [
              "{(F, F, F, F, F): 0.6925500000000001,\n",
              " (F, F, F, F, T): 0.07695000000000002,\n",
              " (F, F, F, T, F): 0.07695000000000002,\n",
              " (F, F, F, T, T): 0.008550000000000002,\n",
              " (F, F, T, F, F): 0.0,\n",
              " (F, F, T, F, T): 0.0,\n",
              " (F, F, T, T, F): 0.0,\n",
              " (F, F, T, T, T): 0.0,\n",
              " (F, T, F, F, F): 0.07310250000000001,\n",
              " (F, T, F, F, T): 0.008122500000000003,\n",
              " (F, T, F, T, F): 0.008122500000000001,\n",
              " (F, T, F, T, T): 0.0009025000000000003,\n",
              " (F, T, T, F, F): 0.00014250000000000002,\n",
              " (F, T, T, F, T): 0.0003325,\n",
              " (F, T, T, T, F): 0.0012825000000000007,\n",
              " (F, T, T, T, T): 0.0029925000000000012,\n",
              " (T, F, F, F, F): 0.03645000000000002,\n",
              " (T, F, F, F, T): 0.0040500000000000015,\n",
              " (T, F, F, T, F): 0.0040500000000000015,\n",
              " (T, F, F, T, T): 0.0004500000000000002,\n",
              " (T, F, T, F, F): 0.0,\n",
              " (T, F, T, F, T): 0.0,\n",
              " (T, F, T, T, F): 0.0,\n",
              " (T, F, T, T, T): 0.0,\n",
              " (T, T, F, F, F): 0.0002025000000000003,\n",
              " (T, T, F, F, T): 2.2500000000000032e-05,\n",
              " (T, T, F, T, F): 2.250000000000003e-05,\n",
              " (T, T, F, T, T): 2.5000000000000036e-06,\n",
              " (T, T, T, F, F): 0.00014250000000000002,\n",
              " (T, T, T, F, T): 0.0003325,\n",
              " (T, T, T, T, F): 0.0012825000000000007,\n",
              " (T, T, T, T, T): 0.0029925000000000012}"
            ]
          },
          "execution_count": 20,
          "metadata": {},
          "output_type": "execute_result"
        }
      ],
      "source": [
        "joint_distribution(alarm_net2)"
      ]
    },
    {
      "cell_type": "code",
      "execution_count": 21,
      "metadata": {
        "colab": {
          "base_uri": "https://localhost:8080/"
        },
        "id": "z1HSzsximfix",
        "outputId": "4f815383-98a7-43c2-8955-57c8d34b2aa5"
      },
      "outputs": [
        {
          "data": {
            "text/plain": [
              "[Cloudy, Sprinkler, Rain, WetGrass]"
            ]
          },
          "execution_count": 21,
          "metadata": {},
          "output_type": "execute_result"
        }
      ],
      "source": [
        "alarm_net3=(\n",
        "    BayesNet()\n",
        "    .add(\"Cloudy\", [], 0.5)\n",
        "    .add(\"Sprinkler\", [\"Cloudy\"], {(T):0.1,(F):0.5})\n",
        "    .add(\"Rain\", [\"Cloudy\"], {(T):0.8,(F):0.2})\n",
        "    .add(\n",
        "        \"WetGrass\",\n",
        "        [\"Sprinkler\", \"Rain\"],\n",
        "        {(T, T): 0.99, (T, F): 0.9, (F, T): 0.9, (F, F): 0.0},\n",
        "    )\n",
        ")\n",
        "globalize(alarm_net3.lookup)\n",
        "alarm_net3.variables\n"
      ]
    },
    {
      "cell_type": "code",
      "execution_count": 22,
      "metadata": {
        "colab": {
          "base_uri": "https://localhost:8080/"
        },
        "id": "7HzeKSBoolHm",
        "outputId": "bd862b04-a843-44d7-854a-6edfc6fa1b7a"
      },
      "outputs": [
        {
          "data": {
            "text/plain": [
              "{(T, T): {T: 0.99, F: 0.010000000000000009},\n",
              " (T, F): {T: 0.9, F: 0.09999999999999998},\n",
              " (F, T): {T: 0.9, F: 0.09999999999999998},\n",
              " (F, F): {T: 0.0, F: 1.0}}"
            ]
          },
          "execution_count": 22,
          "metadata": {},
          "output_type": "execute_result"
        }
      ],
      "source": [
        "WetGrass.cpt"
      ]
    },
    {
      "cell_type": "code",
      "execution_count": 23,
      "metadata": {
        "colab": {
          "base_uri": "https://localhost:8080/"
        },
        "id": "YpJgEwl0pIA8",
        "outputId": "43a4636a-78ae-47ad-dd95-18af8dd497f6"
      },
      "outputs": [
        {
          "name": "stdout",
          "output_type": "stream",
          "text": [
            "0.09999999999999998\n"
          ]
        }
      ],
      "source": [
        "row = (F, T, F, F)\n",
        "print(P_xi_given_parents(WetGrass, row, alarm_net3))"
      ]
    },
    {
      "cell_type": "code",
      "execution_count": 24,
      "metadata": {
        "colab": {
          "base_uri": "https://localhost:8080/"
        },
        "id": "GwN3soJjolBR",
        "outputId": "8a6c6119-fd1e-4e53-8827-fec8c11b5382"
      },
      "outputs": [
        {
          "data": {
            "text/plain": [
              "{(F, F, F, F): 0.19999999999999996,\n",
              " (F, F, F, T): 0.0,\n",
              " (F, F, T, F): 0.004999999999999998,\n",
              " (F, F, T, T): 0.045,\n",
              " (F, T, F, F): 0.019999999999999993,\n",
              " (F, T, F, T): 0.18,\n",
              " (F, T, T, F): 0.0005000000000000003,\n",
              " (F, T, T, T): 0.04949999999999999,\n",
              " (T, F, F, F): 0.08999999999999997,\n",
              " (T, F, F, T): 0.0,\n",
              " (T, F, T, F): 0.03599999999999999,\n",
              " (T, F, T, T): 0.324,\n",
              " (T, T, F, F): 0.0009999999999999994,\n",
              " (T, T, F, T): 0.008999999999999998,\n",
              " (T, T, T, F): 0.00040000000000000034,\n",
              " (T, T, T, T): 0.0396}"
            ]
          },
          "execution_count": 24,
          "metadata": {},
          "output_type": "execute_result"
        }
      ],
      "source": [
        "joint_distribution(alarm_net3)"
      ]
    },
    {
      "cell_type": "code",
      "execution_count": 25,
      "metadata": {
        "colab": {
          "base_uri": "https://localhost:8080/"
        },
        "id": "G6b41KlYqMw5",
        "outputId": "d6979431-104a-4553-af90-b5786392b35c"
      },
      "outputs": [
        {
          "name": "stdout",
          "output_type": "stream",
          "text": [
            "P(S | R, W, C): 0.1\n"
          ]
        }
      ],
      "source": [
        "print(\"P(S | R, W, C):\",P_xi_given_parents(Sprinkler, (T,T,T,T), alarm_net3))"
      ]
    },
    {
      "cell_type": "code",
      "execution_count": 26,
      "metadata": {
        "colab": {
          "base_uri": "https://localhost:8080/"
        },
        "id": "NN9tEJsEqN7P",
        "outputId": "f9ef2360-b8e9-45c9-b87e-242e87984721"
      },
      "outputs": [
        {
          "name": "stdout",
          "output_type": "stream",
          "text": [
            "P(S | ~C, ~W, R): 0.5\n"
          ]
        }
      ],
      "source": [
        "print(\"P(S | ~C, ~W, R):\",P_xi_given_parents(Sprinkler, (F,T,T,F), alarm_net3))"
      ]
    },
    {
      "cell_type": "markdown",
      "metadata": {
        "id": "o0llLvLx4t5k"
      },
      "source": [
        "# Monty Hall"
      ]
    },
    {
      "cell_type": "code",
      "execution_count": 27,
      "metadata": {
        "colab": {
          "base_uri": "https://localhost:8080/"
        },
        "id": "E1W9Aekc3ke4",
        "outputId": "a243bdd5-06d8-476e-a1de-32d5b8addd84"
      },
      "outputs": [
        {
          "name": "stdout",
          "output_type": "stream",
          "text": [
            "Monty Hall Problem with 3 doors\n",
            "Proportion of wins without switching: 0.3342\n",
            "Proportion of wins with switching: 0.6675\n"
          ]
        }
      ],
      "source": [
        "import random\n",
        "\n",
        "\n",
        "def run_trial(switch_doors, ndoors=3):\n",
        "    chosen_door = random.randint(1, ndoors)\n",
        "    if switch_doors:\n",
        "        revealed_door = 3 if chosen_door == 2 else 2\n",
        "        available_doors = [\n",
        "            dnum\n",
        "            for dnum in range(1, ndoors + 1)\n",
        "            if dnum not in (chosen_door, revealed_door)\n",
        "        ]\n",
        "        chosen_door = random.choice(available_doors)\n",
        "\n",
        "    return chosen_door == 1\n",
        "\n",
        "\n",
        "def run_trials(ntrials, switch_doors, ndoors=3):\n",
        "    nwins = 0\n",
        "    for i in range(ntrials):\n",
        "        if run_trial(switch_doors, ndoors):\n",
        "            nwins += 1\n",
        "    return nwins\n",
        "\n",
        "\n",
        "ndoors, ntrials = 3, 10000\n",
        "nwins_without_switch = run_trials(ntrials, False, ndoors)\n",
        "nwins_with_switch = run_trials(ntrials, True, ndoors)\n",
        "\n",
        "\n",
        "print(f\"Monty Hall Problem with {ndoors} doors\")\n",
        "print(f\"Proportion of wins without switching: {nwins_without_switch/ntrials:.4f}\")\n",
        "print(f\"Proportion of wins with switching: {nwins_with_switch / ntrials:.4f}\")\n"
      ]
    }
  ],
  "metadata": {
    "colab": {
      "provenance": []
    },
    "kernelspec": {
      "display_name": "Python 3",
      "name": "python3"
    },
    "language_info": {
      "codemirror_mode": {
        "name": "ipython",
        "version": 3
      },
      "file_extension": ".py",
      "mimetype": "text/x-python",
      "name": "python",
      "nbconvert_exporter": "python",
      "pygments_lexer": "ipython3",
      "version": "3.11.6"
    }
  },
  "nbformat": 4,
  "nbformat_minor": 0
}
